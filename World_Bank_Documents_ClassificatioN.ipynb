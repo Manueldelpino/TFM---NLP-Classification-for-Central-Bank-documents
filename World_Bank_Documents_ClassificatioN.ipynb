{
 "cells": [
  {
   "cell_type": "markdown",
   "metadata": {},
   "source": [
    "<div class=\"alert alert-block alert-warning\">\n",
    "\n",
    "# Machine Learning with Text in scikit-learn\n",
    "<u>210 documentos difundidos por el Banco Mundial relacionados con inversiones en Filipinas: <br></u><br>\n",
    "aprendizaje supervisado: clasificación<br>\n",
    "aprendizaje no supervisado: clustering"
   ]
  },
  {
   "cell_type": "markdown",
   "metadata": {},
   "source": [
    "<div class=\"alert alert-block alert-info\">\n",
    "\n",
    "## Tratatamiento de PDFs y estracción de información (no estructurada)"
   ]
  },
  {
   "cell_type": "code",
   "execution_count": 1,
   "metadata": {},
   "outputs": [],
   "source": [
    "from IPython.core.interactiveshell import InteractiveShell\n",
    "InteractiveShell.ast_node_interactivity = \"all\""
   ]
  },
  {
   "cell_type": "code",
   "execution_count": 2,
   "metadata": {},
   "outputs": [
    {
     "name": "stdout",
     "output_type": "stream",
     "text": [
      "C:\\Users\\IÑIGO\\Documents\\InfoNoEstructurada_ProcesamientoLenguajeNatural_TextMining\\TRABAJO FIN DE MASTER\n"
     ]
    }
   ],
   "source": [
    "import os\n",
    "print(os.getcwd())\n",
    "mypath=os.getcwd()"
   ]
  },
  {
   "cell_type": "code",
   "execution_count": 3,
   "metadata": {},
   "outputs": [],
   "source": [
    "# Cambiar nuestro directorio de trabajo a aquel en el qué estén los documentos a clasificar\n",
    "os.chdir('C:/Users/IÑIGO/Documents/WORLDBANK/TEST/PDFs')\n",
    "mypath=os.getcwd()"
   ]
  },
  {
   "cell_type": "code",
   "execution_count": 4,
   "metadata": {},
   "outputs": [
    {
     "name": "stdout",
     "output_type": "stream",
     "text": [
      "Time elapsed is 0.03 seconds\n"
     ]
    }
   ],
   "source": [
    "# PASO 1\n",
    "# crear 2 listas; una con el nombre y extensión de los documentos y otra con su ubicación 'virtual'\n",
    "import timeit\n",
    "start_time = timeit.default_timer()\n",
    "import os\n",
    "List_Documents=[]\n",
    "ListDirDocuments=[]\n",
    "\n",
    "for (root, directories, filenames) in os.walk(mypath):\n",
    "    for f in filenames:\n",
    "                \n",
    "        List_Documents.append(os.path.join(f))\n",
    "        List_Documents=list(filter(lambda x: (x.endswith('pdf')), List_Documents))\n",
    "        \n",
    "        ListDirDocuments.append(os.path.join(root,f).replace('\\\\','/'))\n",
    "        ListDirDocuments=list(filter(lambda x: (x.endswith('pdf')), ListDirDocuments))\n",
    "        \n",
    "elapsed = timeit.default_timer() - start_time\n",
    "print(\"Time elapsed is {:.2f} seconds\".format(elapsed))"
   ]
  },
  {
   "cell_type": "code",
   "execution_count": 5,
   "metadata": {},
   "outputs": [
    {
     "name": "stderr",
     "output_type": "stream",
     "text": [
      "PdfReadWarning: Xref table not zero-indexed. ID numbers for objects will be corrected. [pdf.py:1736]\n"
     ]
    },
    {
     "name": "stdout",
     "output_type": "stream",
     "text": [
      "Time elapsed is 21.90 seconds\n",
      "NumberOfPagesList tiene (210) elementos\n"
     ]
    }
   ],
   "source": [
    "# PASO 2\n",
    "# crear otra LISTA CON EL NUMERO DE PAGINAS DE CADA PDF\n",
    "\n",
    "import timeit\n",
    "start_time = timeit.default_timer()\n",
    "from PyPDF2 import PdfFileReader\n",
    "\n",
    "NumberOfPagesList=[]\n",
    "for i in range(0,len(ListDirDocuments)):\n",
    "    \n",
    "    NumberOfPagesList.append(PdfFileReader(stream=ListDirDocuments[i]).getNumPages()) \n",
    "    \n",
    "elapsed = timeit.default_timer() - start_time\n",
    "print(\"Time elapsed is {:.2f} seconds\".format(elapsed))\n",
    "print(\"NumberOfPagesList tiene ({}) elementos\".format(len(NumberOfPagesList)))"
   ]
  },
  {
   "cell_type": "code",
   "execution_count": 7,
   "metadata": {},
   "outputs": [
    {
     "data": {
      "text/plain": [
       "(210, 3)"
      ]
     },
     "execution_count": 7,
     "metadata": {},
     "output_type": "execute_result"
    }
   ],
   "source": [
    "# PASO 3\n",
    "# Combinar toda la información extraida hasta ahora en una Matriz \"pandas\" --df1--\n",
    "\n",
    "import pandas as pd\n",
    "df1=pd.DataFrame({'Nombre_Documento':List_Documents,\n",
    "                  'Ubicación':ListDirDocuments,\n",
    "                'Número de Páginas':NumberOfPagesList})\n",
    "df1=df1[['Nombre_Documento','Número de Páginas','Ubicación']]\n",
    "df1.shape"
   ]
  },
  {
   "cell_type": "markdown",
   "metadata": {},
   "source": [
    "<div class=\"alert alert-block alert-info\">\n",
    "    EXTRACCIÓN DEL TEXTO DE LOS DOCUMENTOS"
   ]
  },
  {
   "cell_type": "code",
   "execution_count": 8,
   "metadata": {},
   "outputs": [
    {
     "name": "stderr",
     "output_type": "stream",
     "text": [
      "PdfReadWarning: Xref table not zero-indexed. ID numbers for objects will be corrected. [pdf.py:1736]\n"
     ]
    },
    {
     "name": "stdout",
     "output_type": "stream",
     "text": [
      "Time elapsed is 16.1 minutes\n"
     ]
    }
   ],
   "source": [
    "# PASO 4\n",
    "# LISTA CON EL TEXTO DE TODAS LAS PAGINAS DE CADA PDF\n",
    "# ================lA EJECUCIÓN DE ESTA CELDA SUELE TARDAR UNOS ***15-20 MINUTOS***========================\n",
    "# ================lEE 210 PDFs y extrae el texto de once mil doscientos setenta y cuatro (11.274) páginas====================\n",
    "\n",
    "import timeit\n",
    "start_time = timeit.default_timer()\n",
    "\n",
    "from PyPDF2 import PdfFileReader\n",
    "TextExtractionList=[]\n",
    "\n",
    "for i in range(0,len(ListDirDocuments)):\n",
    "    \n",
    "    read_pdf=PdfFileReader(ListDirDocuments[i])\n",
    "    number_of_pages = read_pdf.getNumPages()\n",
    "    for page_number in range(number_of_pages):\n",
    "        page = read_pdf.getPage(page_number)\n",
    "        page_content = page.extractText()\n",
    "        \n",
    "        TextExtractionList.append(page_content)\n",
    "    \n",
    "elapsed = (timeit.default_timer() - start_time)/60\n",
    "print(\"Time elapsed is {:.1f} minutes\".format(elapsed))"
   ]
  },
  {
   "cell_type": "code",
   "execution_count": 9,
   "metadata": {},
   "outputs": [],
   "source": [
    "# PASO 5\n",
    "# A continuación redimensionamos \"TextExtractionList\" de 11.274 filas a 210 filas\n",
    "TEL = []\n",
    "c = 0\n",
    "for np in NumberOfPagesList:       \n",
    "    LP = TextExtractionList[c:c+np]\n",
    "    c+= np\n",
    "    TEL.append(LP)"
   ]
  },
  {
   "cell_type": "code",
   "execution_count": 10,
   "metadata": {},
   "outputs": [],
   "source": [
    "# PASO 6\n",
    "# Modificamos TEL para que todos sus elementos sean una única cadena de texto\n",
    "TELstr=[] #===========================\n",
    "for i in range(len(TEL)):\n",
    "    TELstr.append(\" \".join(TEL[i]))"
   ]
  },
  {
   "cell_type": "code",
   "execution_count": 11,
   "metadata": {},
   "outputs": [
    {
     "data": {
      "text/plain": [
       "(210, 4)"
      ]
     },
     "execution_count": 11,
     "metadata": {},
     "output_type": "execute_result"
    }
   ],
   "source": [
    "# PASO 7 \n",
    "# Combinar toda la información extraida hasta ahora en una nueva Matriz \"pandas\" df2\n",
    "df2=pd.DataFrame({'Documento':List_Documents,\n",
    "                  'Num.Páginas':NumberOfPagesList,\n",
    "                  'AllRawText':TELstr,\n",
    "                  'Dir':ListDirDocuments})\n",
    "df2.shape"
   ]
  },
  {
   "cell_type": "code",
   "execution_count": 12,
   "metadata": {},
   "outputs": [
    {
     "name": "stdout",
     "output_type": "stream",
     "text": [
      "Tiempo transcurrido: 81 segundos\n"
     ]
    }
   ],
   "source": [
    "# PASO 8\n",
    "# feature selection\n",
    "# creamos una nueva Matriz añadiendo una columna nueva con el texto depurado de todos los caracteres que no sean letras\n",
    "# a continuación procesamos los tokens resultantes extrayendo sus 'raíces' - \"Stemming\"\n",
    "\n",
    "import timeit\n",
    "start_time = timeit.default_timer()\n",
    "\n",
    "from nltk.stem import SnowballStemmer\n",
    "stemmer=SnowballStemmer(\"english\")\n",
    "from nltk.corpus import stopwords\n",
    "WordsStoped=stopwords.words(\"english\")\n",
    "\n",
    "import re\n",
    "df2['Texto+Limpio']=df2.AllRawText.apply\\\n",
    "(lambda x: \" \".join([stemmer.stem(i) for i in re.sub('[^a-zA-Z]',\" \",x).split() if i not in WordsStoped]).lower())\n",
    "\n",
    "df3=df2.drop('Dir',axis=1)\n",
    "\n",
    "elapsed = (timeit.default_timer() - start_time)\n",
    "print(\"Tiempo transcurrido: {:.0f} segundos\".format(elapsed))"
   ]
  },
  {
   "cell_type": "markdown",
   "metadata": {},
   "source": [
    "<div class=\"alert alert-block alert-info\">\n",
    "\n",
    "## Obtención de la matriz de características (X) y el vector de categorias (y)"
   ]
  },
  {
   "cell_type": "code",
   "execution_count": null,
   "metadata": {},
   "outputs": [],
   "source": [
    "# PASO 9\n",
    "# =======================================================================================================================\n",
    "# A continuación asignamos a cada PDF su \"categoria\" desde (World_Bank_Documents_Classification_P.xlsm)\n",
    "# En este Excel se encuentra la clasificación manual de los 210 documentos\n",
    "# ======================================================================================================================="
   ]
  },
  {
   "cell_type": "code",
   "execution_count": 13,
   "metadata": {},
   "outputs": [],
   "source": [
    "# 9a - IMPORTAMOS EL FICHERO\n",
    "import os\n",
    "os.chdir('C:/Users/IÑIGO/Documents/InfoNoEstructurada_ProcesamientoLenguajeNatural_TextMining/TRABAJO FIN DE MASTER')\n",
    "import pandas as pd\n",
    "worldbank=pd.read_excel('World_Bank_Documents_Classification_P.xlsm',\n",
    "                        sheet_name='WBD_PHILIPPINES_CLASSIFICATION',\n",
    "                        skiprows=7, \n",
    "                        usecols=[0,1,2,3,4,5,6,7,8,9,10])"
   ]
  },
  {
   "cell_type": "code",
   "execution_count": 14,
   "metadata": {},
   "outputs": [
    {
     "data": {
      "image/png": "[encoded data removed]",
      "text/plain": [
       "<Figure size 1296x288 with 1 Axes>"
      ]
     },
     "metadata": {},
     "output_type": "display_data"
    }
   ],
   "source": [
    "# 9b -VISUALIZACIÓN DE LAS 5 CATEGORIAS\n",
    "%matplotlib inline\n",
    "import matplotlib.pyplot as plt\n",
    "plt.style.use('ggplot')\n",
    "\n",
    "grafica_types= worldbank.Type.value_counts()\n",
    "\n",
    "ax=grafica_types.plot(kind='bar',\n",
    "                      figsize=(18,4),\n",
    "                      fontsize=14,\n",
    "                      color=\"blue\")\n",
    "\n",
    "ax.set_title('Categorias (Tipos de Documentos)',fontsize=18, color=\"black\");\n",
    "ax.set_ylabel('',fontsize=16, color=\"brown\");\n",
    "ax.set_xlabel('',fontsize=18, color=\"brown\");"
   ]
  },
  {
   "cell_type": "code",
   "execution_count": 15,
   "metadata": {},
   "outputs": [
    {
     "data": {
      "text/plain": [
       "(210, 5)"
      ]
     },
     "execution_count": 15,
     "metadata": {},
     "output_type": "execute_result"
    },
    {
     "data": {
      "text/plain": [
       "Documento       0\n",
       "Num.Páginas     0\n",
       "AllRawText      0\n",
       "Texto+Limpio    0\n",
       "Type            0\n",
       "dtype: int64"
      ]
     },
     "execution_count": 15,
     "metadata": {},
     "output_type": "execute_result"
    }
   ],
   "source": [
    "# 9c - Fusionamos todo en una nueva matriz \"pandas\" para extraer vector de atributos (X) y vector de categorias (y)\n",
    "MERGED=df3.join([worldbank.Type])\n",
    "MERGED.shape\n",
    "MERGED.isnull().sum()"
   ]
  },
  {
   "cell_type": "code",
   "execution_count": 16,
   "metadata": {},
   "outputs": [
    {
     "data": {
      "text/html": [
       "<div>\n",
       "<style scoped>\n",
       "    .dataframe tbody tr th:only-of-type {\n",
       "        vertical-align: middle;\n",
       "    }\n",
       "\n",
       "    .dataframe tbody tr th {\n",
       "        vertical-align: top;\n",
       "    }\n",
       "\n",
       "    .dataframe thead th {\n",
       "        text-align: right;\n",
       "    }\n",
       "</style>\n",
       "<table border=\"1\" class=\"dataframe\">\n",
       "  <thead>\n",
       "    <tr style=\"text-align: right;\">\n",
       "      <th></th>\n",
       "      <th>Documento</th>\n",
       "      <th>Num.Páginas</th>\n",
       "      <th>AllRawText</th>\n",
       "      <th>Texto+Limpio</th>\n",
       "      <th>Type</th>\n",
       "    </tr>\n",
       "  </thead>\n",
       "  <tbody>\n",
       "    <tr>\n",
       "      <th>0</th>\n",
       "      <td>Appraisal__ISDS--08-28-2014.pdf</td>\n",
       "      <td>14</td>\n",
       "      <td>Page 1 of 14Public Disclosure CopyPublic Discl...</td>\n",
       "      <td>page public disclosur copypubl disclosur copyi...</td>\n",
       "      <td>TECHNICAL</td>\n",
       "    </tr>\n",
       "    <tr>\n",
       "      <th>1</th>\n",
       "      <td>Audited Financial Statements -CY2017.pdf</td>\n",
       "      <td>20</td>\n",
       "      <td>AUDITED FINANCIAL STATEMENTS\\nPublic Disclosur...</td>\n",
       "      <td>audit financi statement public disclosur autho...</td>\n",
       "      <td>FINANCIAL</td>\n",
       "    </tr>\n",
       "    <tr>\n",
       "      <th>2</th>\n",
       "      <td>Audited Financial Statements -CY2017_Fd.pdf</td>\n",
       "      <td>20</td>\n",
       "      <td>AUDITED FINANCIAL STATEMENTS\\nPublic Disclosur...</td>\n",
       "      <td>audit financi statement public disclosur autho...</td>\n",
       "      <td>FINANCIAL</td>\n",
       "    </tr>\n",
       "    <tr>\n",
       "      <th>3</th>\n",
       "      <td>Cebu-BRT-Audited Financial Statements-CY2016.pdf</td>\n",
       "      <td>20</td>\n",
       "      <td>AUDITED FINANCIAL STATEMENTS\\nPublic Disclosur...</td>\n",
       "      <td>audit financi statement public disclosur autho...</td>\n",
       "      <td>FINANCIAL</td>\n",
       "    </tr>\n",
       "    <tr>\n",
       "      <th>4</th>\n",
       "      <td>Cebu-BRT-Audited Financial Statements-CY2016_b...</td>\n",
       "      <td>20</td>\n",
       "      <td>AUDITED FINANCIAL STATEMENTS\\nPublic Disclosur...</td>\n",
       "      <td>audit financi statement public disclosur autho...</td>\n",
       "      <td>FINANCIAL</td>\n",
       "    </tr>\n",
       "  </tbody>\n",
       "</table>\n",
       "</div>"
      ],
      "text/plain": [
       "                                           Documento  Num.Páginas  \\\n",
       "0                    Appraisal__ISDS--08-28-2014.pdf           14   \n",
       "1           Audited Financial Statements -CY2017.pdf           20   \n",
       "2        Audited Financial Statements -CY2017_Fd.pdf           20   \n",
       "3   Cebu-BRT-Audited Financial Statements-CY2016.pdf           20   \n",
       "4  Cebu-BRT-Audited Financial Statements-CY2016_b...           20   \n",
       "\n",
       "                                          AllRawText  \\\n",
       "0  Page 1 of 14Public Disclosure CopyPublic Discl...   \n",
       "1  AUDITED FINANCIAL STATEMENTS\\nPublic Disclosur...   \n",
       "2  AUDITED FINANCIAL STATEMENTS\\nPublic Disclosur...   \n",
       "3  AUDITED FINANCIAL STATEMENTS\\nPublic Disclosur...   \n",
       "4  AUDITED FINANCIAL STATEMENTS\\nPublic Disclosur...   \n",
       "\n",
       "                                        Texto+Limpio       Type  \n",
       "0  page public disclosur copypubl disclosur copyi...  TECHNICAL  \n",
       "1  audit financi statement public disclosur autho...  FINANCIAL  \n",
       "2  audit financi statement public disclosur autho...  FINANCIAL  \n",
       "3  audit financi statement public disclosur autho...  FINANCIAL  \n",
       "4  audit financi statement public disclosur autho...  FINANCIAL  "
      ]
     },
     "metadata": {},
     "output_type": "display_data"
    }
   ],
   "source": [
    "display(MERGED.head())"
   ]
  },
  {
   "cell_type": "code",
   "execution_count": 18,
   "metadata": {},
   "outputs": [
    {
     "name": "stdout",
     "output_type": "stream",
     "text": [
      "(210,)\n",
      "(210,)\n"
     ]
    }
   ],
   "source": [
    "# 9d -Extraemos vector de atributos (X) y vector de categorias (y)\n",
    "X = MERGED['Texto+Limpio'] # pandas Series con el TEXTO extraido de cada PDF\n",
    "y = MERGED.Type # pandas Series con las CLASIFICACIONES (LABELs)\n",
    "print(X.shape)\n",
    "print(y.shape)"
   ]
  },
  {
   "cell_type": "code",
   "execution_count": 19,
   "metadata": {},
   "outputs": [
    {
     "data": {
      "text/plain": [
       "TECHNICAL          91\n",
       "SOCIAL             43\n",
       "FINANCIAL          36\n",
       "ENVIRONMENTAL      27\n",
       "BOARD APPROVALS    13\n",
       "Name: Type, dtype: int64"
      ]
     },
     "execution_count": 19,
     "metadata": {},
     "output_type": "execute_result"
    },
    {
     "data": {
      "text/plain": [
       "210"
      ]
     },
     "execution_count": 19,
     "metadata": {},
     "output_type": "execute_result"
    }
   ],
   "source": [
    "# 9e -Listado de las 5 categorias de (y) y su distribución\n",
    "y.value_counts()\n",
    "y.value_counts().sum()"
   ]
  },
  {
   "attachments": {
    "scikit-learn_machine%20learning%20in%20python.PNG": {
     "image/png": "[encoded data removed]"
    }
   },
   "cell_type": "markdown",
   "metadata": {},
   "source": [
    "![scikit-learn_machine%20learning%20in%20python.PNG](attachment:scikit-learn_machine%20learning%20in%20python.PNG)"
   ]
  },
  {
   "cell_type": "markdown",
   "metadata": {},
   "source": [
    "<div class=\"alert alert-block alert-success\">\n",
    "\n",
    "\n",
    "# APRENDIZAJE NO SUPERVISADO"
   ]
  },
  {
   "cell_type": "code",
   "execution_count": 26,
   "metadata": {},
   "outputs": [
    {
     "data": {
      "text/plain": [
       "MiniBatchKMeans(batch_size=100, compute_labels=True, init='k-means++',\n",
       "                init_size=None, max_iter=100, max_no_improvement=10,\n",
       "                n_clusters=5, n_init=1, random_state=None,\n",
       "                reassignment_ratio=0.01, tol=0.0, verbose=0)"
      ]
     },
     "execution_count": 26,
     "metadata": {},
     "output_type": "execute_result"
    }
   ],
   "source": [
    "from sklearn.feature_extraction.text import TfidfVectorizer\n",
    "vectorizer = TfidfVectorizer(min_df=2, max_df=0.85,stop_words='english')\n",
    "XX = vectorizer.fit_transform(X)\n",
    "from sklearn.cluster import MiniBatchKMeans\n",
    "categorias = 5\n",
    "kmeans = MiniBatchKMeans(n_clusters=categorias,\n",
    "               init='k-means++',\n",
    "               max_iter=100,\n",
    "               n_init=1)\n",
    "kmeans.fit(XX)\n",
    "order_centroids = kmeans.cluster_centers_.argsort()[:, ::-1]\n",
    "features = vectorizer.get_feature_names()"
   ]
  },
  {
   "cell_type": "code",
   "execution_count": 27,
   "metadata": {},
   "outputs": [
    {
     "data": {
      "text/html": [
       "<div>\n",
       "<style scoped>\n",
       "    .dataframe tbody tr th:only-of-type {\n",
       "        vertical-align: middle;\n",
       "    }\n",
       "\n",
       "    .dataframe tbody tr th {\n",
       "        vertical-align: top;\n",
       "    }\n",
       "\n",
       "    .dataframe thead th {\n",
       "        text-align: right;\n",
       "    }\n",
       "</style>\n",
       "<table border=\"1\" class=\"dataframe\">\n",
       "  <thead>\n",
       "    <tr style=\"text-align: right;\">\n",
       "      <th></th>\n",
       "      <th>Cluster 1</th>\n",
       "      <th>Cluster 2</th>\n",
       "      <th>Cluster 3</th>\n",
       "      <th>Cluster 4</th>\n",
       "      <th>Cluster 5</th>\n",
       "    </tr>\n",
       "  </thead>\n",
       "  <tbody>\n",
       "    <tr>\n",
       "      <th>1</th>\n",
       "      <td>dotr</td>\n",
       "      <td>baselineactu</td>\n",
       "      <td>jun</td>\n",
       "      <td>environment</td>\n",
       "      <td>brt</td>\n",
       "    </tr>\n",
       "    <tr>\n",
       "      <th>2</th>\n",
       "      <td>wb</td>\n",
       "      <td>targetvalu</td>\n",
       "      <td>wastewat</td>\n",
       "      <td>area</td>\n",
       "      <td>oct</td>\n",
       "    </tr>\n",
       "    <tr>\n",
       "      <th>3</th>\n",
       "      <td>prior</td>\n",
       "      <td>irrig</td>\n",
       "      <td>actual</td>\n",
       "      <td>shall</td>\n",
       "      <td>reportcebu</td>\n",
       "    </tr>\n",
       "    <tr>\n",
       "      <th>4</th>\n",
       "      <td>icb</td>\n",
       "      <td>reportparticipatori</td>\n",
       "      <td>baselineactu</td>\n",
       "      <td>bank</td>\n",
       "      <td>baselineactu</td>\n",
       "    </tr>\n",
       "    <tr>\n",
       "      <th>5</th>\n",
       "      <td>procur</td>\n",
       "      <td>actual</td>\n",
       "      <td>targetvalu</td>\n",
       "      <td>impact</td>\n",
       "      <td>apr</td>\n",
       "    </tr>\n",
       "    <tr>\n",
       "      <th>6</th>\n",
       "      <td>consult</td>\n",
       "      <td>previous</td>\n",
       "      <td>custom</td>\n",
       "      <td>irrig</td>\n",
       "      <td>targetvalu</td>\n",
       "    </tr>\n",
       "    <tr>\n",
       "      <th>7</th>\n",
       "      <td>sbd</td>\n",
       "      <td>dec</td>\n",
       "      <td>mwci</td>\n",
       "      <td>land</td>\n",
       "      <td>bus</td>\n",
       "    </tr>\n",
       "    <tr>\n",
       "      <th>8</th>\n",
       "      <td>select</td>\n",
       "      <td>mar</td>\n",
       "      <td>maynilad</td>\n",
       "      <td>resettl</td>\n",
       "      <td>bankimplement</td>\n",
       "    </tr>\n",
       "    <tr>\n",
       "      <th>9</th>\n",
       "      <td>packag</td>\n",
       "      <td>bankimplement</td>\n",
       "      <td>previous</td>\n",
       "      <td>water</td>\n",
       "      <td>dec</td>\n",
       "    </tr>\n",
       "    <tr>\n",
       "      <th>10</th>\n",
       "      <td>afd</td>\n",
       "      <td>custom</td>\n",
       "      <td>dec</td>\n",
       "      <td>use</td>\n",
       "      <td>custom</td>\n",
       "    </tr>\n",
       "  </tbody>\n",
       "</table>\n",
       "</div>"
      ],
      "text/plain": [
       "   Cluster 1            Cluster 2     Cluster 3    Cluster 4      Cluster 5\n",
       "1       dotr         baselineactu           jun  environment            brt\n",
       "2         wb           targetvalu      wastewat         area            oct\n",
       "3      prior                irrig        actual        shall     reportcebu\n",
       "4        icb  reportparticipatori  baselineactu         bank   baselineactu\n",
       "5     procur               actual    targetvalu       impact            apr\n",
       "6    consult             previous        custom        irrig     targetvalu\n",
       "7        sbd                  dec          mwci         land            bus\n",
       "8     select                  mar      maynilad      resettl  bankimplement\n",
       "9     packag        bankimplement      previous        water            dec\n",
       "10       afd               custom           dec          use         custom"
      ]
     },
     "execution_count": 27,
     "metadata": {},
     "output_type": "execute_result"
    }
   ],
   "source": [
    "lista1=[]\n",
    "n=10\n",
    "for i in range(0,len(order_centroids)):\n",
    "    for j in range(n):\n",
    "        lista1.append(features[order_centroids[i][j]])\n",
    "\n",
    "lista2 = [lista1[i * n:(i + 1) * n] for i in range((len(lista1) + n - 1) // n )]\n",
    "import pandas as pd\n",
    "dfcluster=pd.DataFrame(data={'Cluster 1':lista2[0],\n",
    "                             'Cluster 2':lista2[1],\n",
    "                             'Cluster 3':lista2[2],\n",
    "                             'Cluster 4':lista2[3],\n",
    "                             'Cluster 5':lista2[4]},index=range(1,n+1))\n",
    "dfcluster"
   ]
  },
  {
   "cell_type": "markdown",
   "metadata": {},
   "source": [
    "<div class=\"alert alert-block alert-success\">\n",
    "\n",
    "# APRENDIZAJE SUPERVISADO"
   ]
  },
  {
   "cell_type": "code",
   "execution_count": 165,
   "metadata": {},
   "outputs": [
    {
     "name": "stdout",
     "output_type": "stream",
     "text": [
      "(157,) (53,) (157,) (53,)\n"
     ]
    }
   ],
   "source": [
    "# PASO 10\n",
    "# Ahora dividimos 'X' e 'y' en \"training\" y \"testing\" sets\n",
    "from sklearn.model_selection import train_test_split\n",
    "X_train, X_test, y_train, y_test = \\\n",
    "train_test_split(X,y,random_state=123,test_size=0.25, train_size=0.75)\n",
    "print(X_train.shape, X_test.shape, y_train.shape, y_test.shape)"
   ]
  },
  {
   "cell_type": "markdown",
   "metadata": {},
   "source": [
    "<div class=\"alert alert-block alert-info\">\n",
    "\n",
    "#### PASO 11<br>\n",
    "### Transformamos texto en vectores numéricos\n",
    " "
   ]
  },
  {
   "cell_type": "code",
   "execution_count": 166,
   "metadata": {},
   "outputs": [
    {
     "data": {
      "text/plain": [
       "<157x14623 sparse matrix of type '<class 'numpy.int64'>'\n",
       "\twith 142875 stored elements in Compressed Sparse Row format>"
      ]
     },
     "execution_count": 166,
     "metadata": {},
     "output_type": "execute_result"
    },
    {
     "data": {
      "text/plain": [
       "<53x14623 sparse matrix of type '<class 'numpy.int64'>'\n",
       "\twith 47436 stored elements in Compressed Sparse Row format>"
      ]
     },
     "execution_count": 166,
     "metadata": {},
     "output_type": "execute_result"
    }
   ],
   "source": [
    "from sklearn.feature_extraction.text import CountVectorizer\n",
    "vect = CountVectorizer(min_df=2,\n",
    "                       max_df=0.85,\n",
    "                       stop_words='english')\n",
    "X_train_dtm = vect.fit_transform(X_train) ## *X_train_tokens*=vect.get_feature_names()\n",
    "X_train_dtm\n",
    "X_test_dtm = vect.transform(X_test)\n",
    "X_test_dtm"
   ]
  },
  {
   "cell_type": "markdown",
   "metadata": {},
   "source": [
    "<div class=\"alert alert-block alert-success\">\n",
    "\n",
    "#### PASO 12<br>\n",
    "## Preparar y evaluar `Multinomial Naive Bayes`"
   ]
  },
  {
   "cell_type": "code",
   "execution_count": 167,
   "metadata": {},
   "outputs": [
    {
     "data": {
      "text/plain": [
       "MultinomialNB(alpha=1.0, class_prior=None, fit_prior=True)"
      ]
     },
     "execution_count": 167,
     "metadata": {},
     "output_type": "execute_result"
    },
    {
     "data": {
      "text/plain": [
       "0.8113"
      ]
     },
     "execution_count": 167,
     "metadata": {},
     "output_type": "execute_result"
    }
   ],
   "source": [
    "from sklearn.naive_bayes import MultinomialNB\n",
    "nb = MultinomialNB()\n",
    "nb.fit(X_train_dtm, y_train)\n",
    "y_pred_class = nb.predict(X_test_dtm)\n",
    "from sklearn import metrics\n",
    "round(metrics.accuracy_score(y_test, y_pred_class),4)"
   ]
  },
  {
   "cell_type": "code",
   "execution_count": 168,
   "metadata": {},
   "outputs": [
    {
     "data": {
      "text/plain": [
       "array([[ 1,  0,  0,  1,  0],\n",
       "       [ 0,  4,  0,  1,  2],\n",
       "       [ 0,  0,  5,  0,  2],\n",
       "       [ 0,  0,  0,  8,  3],\n",
       "       [ 0,  1,  0,  0, 25]], dtype=int64)"
      ]
     },
     "execution_count": 168,
     "metadata": {},
     "output_type": "execute_result"
    },
    {
     "data": {
      "text/plain": [
       "53"
      ]
     },
     "execution_count": 168,
     "metadata": {},
     "output_type": "execute_result"
    }
   ],
   "source": [
    "# Matriz de confusión========= conjunto de prueba ===53 documentos==========\n",
    "metrics.confusion_matrix(y_test, y_pred_class)\n",
    "metrics.confusion_matrix(y_test, y_pred_class).sum()"
   ]
  },
  {
   "cell_type": "code",
   "execution_count": 169,
   "metadata": {},
   "outputs": [
    {
     "name": "stdout",
     "output_type": "stream",
     "text": [
      "                 precision    recall  f1-score   support\n",
      "\n",
      "BOARD APPROVALS       1.00      0.50      0.67         2\n",
      "  ENVIRONMENTAL       0.80      0.57      0.67         7\n",
      "      FINANCIAL       1.00      0.71      0.83         7\n",
      "         SOCIAL       0.80      0.73      0.76        11\n",
      "      TECHNICAL       0.78      0.96      0.86        26\n",
      "\n",
      "       accuracy                           0.81        53\n",
      "      macro avg       0.88      0.69      0.76        53\n",
      "   weighted avg       0.82      0.81      0.80        53\n",
      "\n"
     ]
    }
   ],
   "source": [
    "from sklearn.metrics import classification_report\n",
    "print(classification_report(y_test,y_pred_class))"
   ]
  },
  {
   "cell_type": "markdown",
   "metadata": {},
   "source": [
    "## CURVAS ROC"
   ]
  },
  {
   "cell_type": "code",
   "execution_count": 170,
   "metadata": {},
   "outputs": [],
   "source": [
    "y_pred_class_l=y_pred_class.tolist()\n",
    "y_pred_class_technical=[1 if x == 'TECHNICAL' else 0 for x in y_pred_class_l]\n",
    "y_pred_class_social=[1 if x == 'SOCIAL' else 0 for x in y_pred_class_l]\n",
    "y_pred_class_financial=[1 if x == 'FINANCIAL' else 0 for x in y_pred_class_l]\n",
    "y_pred_class_environmental=[1 if x == 'ENVIRONMENTAL' else 0 for x in y_pred_class_l]\n",
    "y_pred_class_BA=[1 if x == 'BOARD APPROVALS' else 0 for x in y_pred_class_l]"
   ]
  },
  {
   "cell_type": "code",
   "execution_count": 171,
   "metadata": {},
   "outputs": [],
   "source": [
    "y_test_class_l=y_test.tolist()\n",
    "y_test_technical=[1 if x == 'TECHNICAL' else 0 for x in y_test_class_l]\n",
    "y_test_social=[1 if x == 'SOCIAL' else 0 for x in y_test_class_l]\n",
    "y_test_financial=[1 if x == 'FINANCIAL' else 0 for x in y_test_class_l]\n",
    "y_test_environmental=[1 if x == 'ENVIRONMENTAL' else 0 for x in y_test_class_l]\n",
    "y_test_BA=[1 if x == 'BOARD APPROVALS' else 0 for x in y_test_class_l]"
   ]
  },
  {
   "cell_type": "code",
   "execution_count": 191,
   "metadata": {},
   "outputs": [
    {
     "ename": "NameError",
     "evalue": "name 'a' is not defined",
     "output_type": "error",
     "traceback": [
      "\u001b[1;31m---------------------------------------------------------------------------\u001b[0m",
      "\u001b[1;31mNameError\u001b[0m                                 Traceback (most recent call last)",
      "\u001b[1;32m<ipython-input-191-3f786850e387>\u001b[0m in \u001b[0;36m<module>\u001b[1;34m\u001b[0m\n\u001b[1;32m----> 1\u001b[1;33m \u001b[0ma\u001b[0m\u001b[1;33m\u001b[0m\u001b[1;33m\u001b[0m\u001b[0m\n\u001b[0m",
      "\u001b[1;31mNameError\u001b[0m: name 'a' is not defined"
     ]
    }
   ],
   "source": []
  },
  {
   "cell_type": "code",
   "execution_count": 197,
   "metadata": {},
   "outputs": [
    {
     "data": {
      "image/png": "[encoded data removed]",
      "text/plain": [
       "<Figure size 864x576 with 1 Axes>"
      ]
     },
     "metadata": {
      "needs_background": "light"
     },
     "output_type": "display_data"
    },
    {
     "name": "stdout",
     "output_type": "stream",
     "text": [
      "AUC Total:0.8656\n",
      "\n",
      "Technical: 0.9245\n",
      "Social: 0.8398\n",
      "Financial: 0.9674\n",
      "Environmental: 0.8463\n",
      "Board Approvals: 0.7500\n"
     ]
    }
   ],
   "source": [
    "from sklearn.metrics import roc_curve, roc_auc_score\n",
    "fpr_T, tpr_T, threshold=roc_curve(y_test_technical,y_pred_class_technical)\n",
    "fpr_S, tpr_S, threshold=roc_curve(y_test_social,y_pred_class_social)\n",
    "fpr_F, tpr_F, threshold=roc_curve(y_test_financial,y_pred_class_financial)\n",
    "fpr_E, tpr_E, threshold=roc_curve(y_test_environmental,y_pred_class_environmental)\n",
    "fpr_BA, tpr_BA, threshold=roc_curve(y_test_BA,y_pred_class_BA)\n",
    "\n",
    "def plot_roc_curve(fpr_T, tpr_T,fpr_S, tpr_S,fpr_F,tpr_F,fpr_E, tpr_E,fpr_BA, tpr_BA,Titulo):  \n",
    "    plt.figure(figsize=(12, 8))\n",
    "    plt.plot(fpr_T, tpr_T, color='purple', label='TECHNICAL')\n",
    "    plt.plot(fpr_S, tpr_S, color='red', label='SOCIAL')\n",
    "    plt.plot(fpr_F, tpr_F, color='blue', label='FINANCIAL')\n",
    "    plt.plot(fpr_E, tpr_E, color='yellow', label='ENVIRONMENT')\n",
    "    plt.plot(fpr_BA, tpr_BA, color='lightblue', label='BOARD APPROVALS')\n",
    "    \n",
    "    plt.plot([0, 1], [0, 1], color='darkblue', linestyle='--')\n",
    "    plt.xlabel('Ratio de Falso positivo')\n",
    "    plt.ylabel('Ratio de verdadero positivo')\n",
    "    plt.title(Titulo)\n",
    "    plt.legend()\n",
    "    plt.show()\n",
    "    a=roc_auc_score(y_test_technical,y_pred_class_technical)\n",
    "    b=roc_auc_score(y_test_social,y_pred_class_social)\n",
    "    c=roc_auc_score(y_test_financial,y_pred_class_financial)\n",
    "    d=roc_auc_score(y_test_environmental,y_pred_class_environmental)\n",
    "    e=roc_auc_score(y_test_BA,y_pred_class_BA)\n",
    "    f=(a+b+c+d+e)/5\n",
    "    print(\"AUC Total:{:.4f}\\n\\nTechnical: {:.4f}\\nSocial: {:.4f}\\nFinancial: {:.4f}\\nEnvironmental: {:.4f}\\nBoard Approvals: {:.4f}\".format(f,a,b,c,d,e))\n",
    "    \n",
    "plot_roc_curve(fpr_T, tpr_T,fpr_S, tpr_S,fpr_F,tpr_F,fpr_E, tpr_E,fpr_BA, tpr_BA,'RECEIVING OPERATING CHARACTERISTIC (ROC) - NAIVE BAYES')"
   ]
  },
  {
   "cell_type": "markdown",
   "metadata": {},
   "source": [
    "<div class=\"alert alert-block alert-success\">\n",
    "\n",
    "## Validación cruzada en `Multinomial Naive Bayes`"
   ]
  },
  {
   "cell_type": "code",
   "execution_count": 174,
   "metadata": {},
   "outputs": [
    {
     "name": "stdout",
     "output_type": "stream",
     "text": [
      "[1.         0.76470588 0.875      0.75       0.875      0.86666667\n",
      " 0.6        0.66666667 1.         0.92857143]\n",
      "\n",
      " 0.8327\n"
     ]
    }
   ],
   "source": [
    "from sklearn.model_selection import cross_val_score\n",
    "# Validación cruzada con 10 particiones distintas\n",
    "nb = MultinomialNB()\n",
    "scores = cross_val_score(nb, X_train_dtm, y_train, cv=10, scoring='accuracy')\n",
    "print(scores)\n",
    "print('\\n', round(scores.mean(),4))"
   ]
  },
  {
   "cell_type": "markdown",
   "metadata": {},
   "source": [
    "<div class=\"alert alert-block alert-success\">\n",
    "\n",
    "#### PASO 13<br>\n",
    "## <u>Comparar Multinomial Naive Bayes con **`K-NN`** y **`Logistic regression`**"
   ]
  },
  {
   "cell_type": "markdown",
   "metadata": {},
   "source": [
    "<div class=\"alert alert-block alert-success\">\n",
    "\n",
    "### K-NEAREST NEIGHBORS (K-NN)"
   ]
  },
  {
   "cell_type": "code",
   "execution_count": 175,
   "metadata": {},
   "outputs": [],
   "source": [
    "from sklearn.model_selection import train_test_split\n",
    "X_train, X_test, y_train, y_test = \\\n",
    "train_test_split(X,y,random_state=123,test_size=0.25,train_size=0.75)"
   ]
  },
  {
   "cell_type": "code",
   "execution_count": 176,
   "metadata": {},
   "outputs": [
    {
     "data": {
      "text/plain": [
       "<157x14623 sparse matrix of type '<class 'numpy.int64'>'\n",
       "\twith 142875 stored elements in Compressed Sparse Row format>"
      ]
     },
     "execution_count": 176,
     "metadata": {},
     "output_type": "execute_result"
    }
   ],
   "source": [
    "X_train_dtm = vect.fit_transform(X_train)\n",
    "X_train_dtm"
   ]
  },
  {
   "cell_type": "code",
   "execution_count": 177,
   "metadata": {},
   "outputs": [
    {
     "data": {
      "text/plain": [
       "<53x14623 sparse matrix of type '<class 'numpy.int64'>'\n",
       "\twith 47436 stored elements in Compressed Sparse Row format>"
      ]
     },
     "execution_count": 177,
     "metadata": {},
     "output_type": "execute_result"
    }
   ],
   "source": [
    "X_test_dtm = vect.transform(X_test)\n",
    "X_test_dtm"
   ]
  },
  {
   "cell_type": "code",
   "execution_count": 178,
   "metadata": {},
   "outputs": [
    {
     "data": {
      "text/plain": [
       "KNeighborsClassifier(algorithm='auto', leaf_size=30, metric='minkowski',\n",
       "                     metric_params=None, n_jobs=None, n_neighbors=1, p=2,\n",
       "                     weights='uniform')"
      ]
     },
     "execution_count": 178,
     "metadata": {},
     "output_type": "execute_result"
    },
    {
     "name": "stdout",
     "output_type": "stream",
     "text": [
      "0.792453\n"
     ]
    }
   ],
   "source": [
    "from sklearn.neighbors import KNeighborsClassifier\n",
    "knn = KNeighborsClassifier(n_neighbors=1)\n",
    "knn.fit(X_train_dtm, y_train)\n",
    "y_pred_class = knn.predict(X_test_dtm) \n",
    "print(round(metrics.accuracy_score(y_test, y_pred_class),6))"
   ]
  },
  {
   "cell_type": "code",
   "execution_count": 179,
   "metadata": {},
   "outputs": [],
   "source": [
    "y_pred_class_Knn=y_pred_class.tolist()\n",
    "y_pred_class_technical=[1 if x == 'TECHNICAL' else 0 for x in y_pred_class_Knn]\n",
    "y_pred_class_social=[1 if x == 'SOCIAL' else 0 for x in y_pred_class_Knn]\n",
    "y_pred_class_financial=[1 if x == 'FINANCIAL' else 0 for x in y_pred_class_Knn]\n",
    "y_pred_class_environmental=[1 if x == 'ENVIRONMENTAL' else 0 for x in y_pred_class_Knn]\n",
    "y_pred_class_BA=[1 if x == 'BOARD APPROVALS' else 0 for x in y_pred_class_Knn]"
   ]
  },
  {
   "cell_type": "code",
   "execution_count": 180,
   "metadata": {},
   "outputs": [],
   "source": [
    "y_test_class_Knn=y_test.tolist()\n",
    "y_test_technical=[1 if x == 'TECHNICAL' else 0 for x in y_test_class_Knn]\n",
    "y_test_social=[1 if x == 'SOCIAL' else 0 for x in y_test_class_Knn]\n",
    "y_test_financial=[1 if x == 'FINANCIAL' else 0 for x in y_test_class_Knn]\n",
    "y_test_environmental=[1 if x == 'ENVIRONMENTAL' else 0 for x in y_test_class_Knn]\n",
    "y_test_BA=[1 if x == 'BOARD APPROVALS' else 0 for x in y_test_class_Knn]"
   ]
  },
  {
   "cell_type": "code",
   "execution_count": 181,
   "metadata": {},
   "outputs": [
    {
     "data": {
      "image/png": "[encoded data removed]",
      "text/plain": [
       "<Figure size 864x576 with 1 Axes>"
      ]
     },
     "metadata": {
      "needs_background": "light"
     },
     "output_type": "display_data"
    },
    {
     "name": "stdout",
     "output_type": "stream",
     "text": [
      "AUC:\n",
      "\n",
      "Technical: 0.8875\n",
      "Social: 0.7727\n",
      "Financial: 0.8851\n",
      "Environmental: 0.7640\n",
      "Board Approvals: 0.9902\n",
      "AUC Financial: 0.8851\n"
     ]
    }
   ],
   "source": [
    "fpr_T, tpr_T, threshold=roc_curve(y_test_technical,y_pred_class_technical)\n",
    "fpr_S, tpr_S, threshold=roc_curve(y_test_social,y_pred_class_social)\n",
    "fpr_F, tpr_F, threshold=roc_curve(y_test_financial,y_pred_class_financial)\n",
    "fpr_E, tpr_E, threshold=roc_curve(y_test_environmental,y_pred_class_environmental)\n",
    "fpr_BA, tpr_BA, threshold=roc_curve(y_test_BA,y_pred_class_BA)\n",
    "\n",
    "plot_roc_curve(fpr_T, tpr_T,fpr_S, tpr_S,fpr_F,tpr_F,fpr_E, tpr_E,fpr_BA, tpr_BA,'RECEIVING OPERATING CHARACTERISTIC (ROC) - K-Nearest Neighbors')"
   ]
  },
  {
   "cell_type": "markdown",
   "metadata": {},
   "source": [
    "## Validación cruzada en K-NN"
   ]
  },
  {
   "cell_type": "code",
   "execution_count": 182,
   "metadata": {},
   "outputs": [
    {
     "name": "stdout",
     "output_type": "stream",
     "text": [
      "[0.86, 0.78, 0.84, 0.82, 0.8, 0.76, 0.72, 0.74, 0.68, 0.65, 0.61, 0.59, 0.6, 0.58, 0.57, 0.57, 0.58, 0.57, 0.57, 0.58, 0.54, 0.56, 0.58, 0.59, 0.59, 0.59, 0.58, 0.58, 0.58, 0.56]\n"
     ]
    }
   ],
   "source": [
    "# Primero buscamos encontrar el valor óptimo de K y visualizamos la precisión para cada valor del parametro K\n",
    "from sklearn.model_selection import cross_val_score\n",
    "k_range = list(range(1, 31))\n",
    "k_scores = []\n",
    "for k in k_range:\n",
    "    knn = KNeighborsClassifier(n_neighbors=k)\n",
    "    scores = cross_val_score(knn, X_train_dtm, y_train, cv=10, scoring='accuracy')\n",
    "    k_scores.append(round(scores.mean(),2))\n",
    "print(k_scores)"
   ]
  },
  {
   "cell_type": "code",
   "execution_count": 183,
   "metadata": {},
   "outputs": [
    {
     "data": {
      "image/png": "[encoded data removed]",
      "text/plain": [
       "<Figure size 864x576 with 1 Axes>"
      ]
     },
     "metadata": {
      "needs_background": "light"
     },
     "output_type": "display_data"
    }
   ],
   "source": [
    "import matplotlib.pyplot as plt\n",
    "%matplotlib inline\n",
    "plt.figure(figsize=(12, 8))\n",
    "plt.plot(k_range, k_scores,color=\"blue\",linestyle='--');\n",
    "plt.xlabel('Valor de K');\n",
    "plt.ylabel('Precisión CV=10');"
   ]
  },
  {
   "cell_type": "code",
   "execution_count": 184,
   "metadata": {},
   "outputs": [
    {
     "name": "stdout",
     "output_type": "stream",
     "text": [
      "[0.77777778 0.88235294 0.8125     0.75       1.         0.86666667\n",
      " 0.86666667 0.8        0.86666667 0.92857143]\n",
      "\n",
      " 0.8551\n"
     ]
    }
   ],
   "source": [
    "# # Validación cruzada con 10 particiones distintas\n",
    "K=1 # parametro óptimo\n",
    "from sklearn.model_selection import cross_val_score\n",
    "knn = KNeighborsClassifier(n_neighbors=K)\n",
    "scores = cross_val_score(knn, X_train_dtm, y_train, cv=10, scoring='accuracy')\n",
    "print(scores)\n",
    "print('\\n', round(scores.mean(),4))"
   ]
  },
  {
   "cell_type": "markdown",
   "metadata": {},
   "source": [
    "<div class=\"alert alert-block alert-success\">\n",
    "\n",
    "###  REGRESIÓN LOGÍSTICA"
   ]
  },
  {
   "cell_type": "code",
   "execution_count": 185,
   "metadata": {},
   "outputs": [
    {
     "data": {
      "text/plain": [
       "LogisticRegression(C=1.0, class_weight=None, dual=False, fit_intercept=True,\n",
       "                   intercept_scaling=1, l1_ratio=None, max_iter=3000,\n",
       "                   multi_class='auto', n_jobs=None, penalty='l2',\n",
       "                   random_state=None, solver='lbfgs', tol=0.0001, verbose=0,\n",
       "                   warm_start=False)"
      ]
     },
     "execution_count": 185,
     "metadata": {},
     "output_type": "execute_result"
    },
    {
     "data": {
      "text/plain": [
       "0.849057"
      ]
     },
     "execution_count": 185,
     "metadata": {},
     "output_type": "execute_result"
    }
   ],
   "source": [
    "from sklearn.linear_model import LogisticRegression\n",
    "logreg = LogisticRegression(solver= 'lbfgs',multi_class='auto',max_iter=3000)\n",
    "logreg.fit(X_train_dtm, y_train)\n",
    "y_pred_class = logreg.predict(X_test_dtm)\n",
    "round(metrics.accuracy_score(y_test, y_pred_class),6)"
   ]
  },
  {
   "cell_type": "code",
   "execution_count": 186,
   "metadata": {},
   "outputs": [],
   "source": [
    "y_pred_class_RL=y_pred_class.tolist()\n",
    "y_pred_class_technical=[1 if x == 'TECHNICAL' else 0 for x in y_pred_class_RL]\n",
    "y_pred_class_social=[1 if x == 'SOCIAL' else 0 for x in y_pred_class_RL]\n",
    "y_pred_class_financial=[1 if x == 'FINANCIAL' else 0 for x in y_pred_class_RL]\n",
    "y_pred_class_environmental=[1 if x == 'ENVIRONMENTAL' else 0 for x in y_pred_class_RL]\n",
    "y_pred_class_BA=[1 if x == 'BOARD APPROVALS' else 0 for x in y_pred_class_RL]"
   ]
  },
  {
   "cell_type": "code",
   "execution_count": 187,
   "metadata": {},
   "outputs": [],
   "source": [
    "y_test_class_RL=y_test.tolist()\n",
    "y_test_technical=[1 if x == 'TECHNICAL' else 0 for x in y_test_class_RL]\n",
    "y_test_social=[1 if x == 'SOCIAL' else 0 for x in y_test_class_RL]\n",
    "y_test_financial=[1 if x == 'FINANCIAL' else 0 for x in y_test_class_RL]\n",
    "y_test_environmental=[1 if x == 'ENVIRONMENTAL' else 0 for x in y_test_class_RL]\n",
    "y_test_BA=[1 if x == 'BOARD APPROVALS' else 0 for x in y_test_class_RL]"
   ]
  },
  {
   "cell_type": "code",
   "execution_count": 188,
   "metadata": {},
   "outputs": [
    {
     "data": {
      "image/png": "[encoded data removed]",
      "text/plain": [
       "<Figure size 864x576 with 1 Axes>"
      ]
     },
     "metadata": {
      "needs_background": "light"
     },
     "output_type": "display_data"
    },
    {
     "name": "stdout",
     "output_type": "stream",
     "text": [
      "AUC:\n",
      "\n",
      "Technical: 0.9245\n",
      "Social: 0.8398\n",
      "Financial: 0.9674\n",
      "Environmental: 0.8463\n",
      "Board Approvals: 0.7500\n",
      "AUC Financial: 0.9674\n"
     ]
    }
   ],
   "source": [
    "fpr_T, tpr_T, threshold=roc_curve(y_test_technical,y_pred_class_technical)\n",
    "fpr_S, tpr_S, threshold=roc_curve(y_test_social,y_pred_class_social)\n",
    "fpr_F, tpr_F, threshold=roc_curve(y_test_financial,y_pred_class_financial)\n",
    "fpr_E, tpr_E, threshold=roc_curve(y_test_environmental,y_pred_class_environmental)\n",
    "fpr_BA, tpr_BA, threshold=roc_curve(y_test_BA,y_pred_class_BA)\n",
    "\n",
    "plot_roc_curve(fpr_T, tpr_T,fpr_S, tpr_S,fpr_F,tpr_F,fpr_E, tpr_E,fpr_BA, tpr_BA,'RECEIVING OPERATING CHARACTERISTIC (ROC) - Regresión Logística')"
   ]
  },
  {
   "cell_type": "markdown",
   "metadata": {},
   "source": [
    "## Validación cruzada en regresión logística"
   ]
  },
  {
   "cell_type": "code",
   "execution_count": 189,
   "metadata": {},
   "outputs": [
    {
     "name": "stderr",
     "output_type": "stream",
     "text": [
      "FutureWarning: Default solver will be changed to 'lbfgs' in 0.22. Specify a solver to silence this warning. [logistic.py:432]\n",
      "FutureWarning: Default multi_class will be changed to 'auto' in 0.22. Specify the multi_class option to silence this warning. [logistic.py:469]\n"
     ]
    },
    {
     "name": "stdout",
     "output_type": "stream",
     "text": [
      "0.8973\n"
     ]
    }
   ],
   "source": [
    "# 10 particiones distintas\n",
    "from sklearn.linear_model import LogisticRegression\n",
    "logreg = LogisticRegression()\n",
    "print(round(cross_val_score(logreg, X_train_dtm, y_train, cv=10, scoring='accuracy').mean(),4))"
   ]
  },
  {
   "cell_type": "code",
   "execution_count": null,
   "metadata": {},
   "outputs": [],
   "source": []
  }
 ],
 "metadata": {
  "kernelspec": {
   "display_name": "Python 3",
   "language": "python",
   "name": "python3"
  },
  "language_info": {
   "codemirror_mode": {
    "name": "ipython",
    "version": 3
   },
   "file_extension": ".py",
   "mimetype": "text/x-python",
   "name": "python",
   "nbconvert_exporter": "python",
   "pygments_lexer": "ipython3",
   "version": "3.6.5"
  }
 },
 "nbformat": 4,
 "nbformat_minor": 1
}
